{
 "cells": [
  {
   "cell_type": "code",
   "execution_count": 1,
   "metadata": {
    "collapsed": true
   },
   "outputs": [],
   "source": [
    "# Adding needed libraries and reading data\n",
    "import pandas as pd\n",
    "import numpy as np\n",
    "import matplotlib.pyplot as plt\n",
    "import seaborn as sns\n",
    "from sklearn import ensemble, tree, linear_model\n",
    "from sklearn.model_selection import train_test_split, cross_val_score\n",
    "from sklearn.metrics import r2_score, mean_squared_error\n",
    "from sklearn.utils import shuffle\n",
    "\n",
    "%matplotlib inline\n",
    "import warnings\n",
    "warnings.filterwarnings('ignore')\n",
    "\n",
    "train = pd.read_csv('train.csv')\n",
    "test = pd.read_csv('test.csv')"
   ]
  },
  {
   "cell_type": "code",
   "execution_count": 2,
   "metadata": {},
   "outputs": [
    {
     "data": {
      "text/plain": [
       "Index(['id', 'spacegroup', 'number_of_total_atoms', 'percent_atom_al',\n",
       "       'percent_atom_ga', 'percent_atom_in', 'lattice_vector_1_ang',\n",
       "       'lattice_vector_2_ang', 'lattice_vector_3_ang',\n",
       "       'lattice_angle_alpha_degree', 'lattice_angle_beta_degree',\n",
       "       'lattice_angle_gamma_degree', 'formation_energy_ev_natom',\n",
       "       'bandgap_energy_ev'],\n",
       "      dtype='object')"
      ]
     },
     "execution_count": 2,
     "metadata": {},
     "output_type": "execute_result"
    }
   ],
   "source": [
    "train.columns"
   ]
  },
  {
   "cell_type": "code",
   "execution_count": 3,
   "metadata": {},
   "outputs": [],
   "source": [
    "#NAs = pd.concat([train.isnull().sum(), test.isnull().sum()], axis=1, keys=['Train', 'Test'])\n",
    "#NAs[NAs.sum(axis=1) > 0]"
   ]
  },
  {
   "cell_type": "code",
   "execution_count": 4,
   "metadata": {
    "collapsed": true
   },
   "outputs": [],
   "source": [
    "# Prints R2 and RMSE scores\n",
    "def get_score(prediction, lables):    \n",
    "    print('R2: {}'.format(r2_score(prediction, lables)))\n",
    "    print('RMSLE: {}'.format(np.sqrt(np.square(np.log(prediction + 1) - np.log(lables + 1)).mean())))\n",
    "    print('RMSE: {}'.format(np.sqrt(mean_squared_error(prediction, lables))))\n",
    "\n",
    "# Shows scores for train and validation sets    \n",
    "def train_test(estimator, x_trn, x_tst, y_trn, y_tst):\n",
    "    prediction_train = estimator.predict(x_trn)\n",
    "    # Printing estimator\n",
    "    print(estimator)\n",
    "    # Printing train scores\n",
    "    get_score(prediction_train, y_trn)\n",
    "    prediction_test = estimator.predict(x_tst)\n",
    "    # Printing test scores\n",
    "    print(\"Test\")\n",
    "    get_score(prediction_test, y_tst)"
   ]
  },
  {
   "cell_type": "code",
   "execution_count": 5,
   "metadata": {
    "collapsed": true
   },
   "outputs": [],
   "source": [
    "# Spliting to features and lables and deleting variable I don't need\n",
    "train_labels = train.pop('bandgap_energy_ev')\n",
    "\n",
    "features = pd.concat([train, test], keys=['train', 'test'])\n",
    "\n",
    "# I decided to get rid of features that have more than half of missing information or do not correlate to SalePrice\n",
    "features.drop(['spacegroup','number_of_total_atoms','formation_energy_ev_natom'],\n",
    "              axis=1, inplace=True)"
   ]
  },
  {
   "cell_type": "code",
   "execution_count": 6,
   "metadata": {
    "collapsed": true
   },
   "outputs": [],
   "source": [
    "# features['lattice_vector_1_ang'] = 1/features['lattice_vector_1_ang']\n",
    "# features['lattice_vector_2_ang'] = 1/features['lattice_vector_1_ang']\n",
    "# features['lattice_vector_3_ang'] = 1/features['lattice_vector_1_ang']\n",
    "features['lattice_angle_alpha_degree'] = np.cos(features['lattice_angle_alpha_degree']/180*np.pi)\n",
    "features['lattice_angle_beta_degree'] = np.cos(features['lattice_angle_beta_degree']/180*np.pi)\n",
    "features['lattice_angle_gamma_degree'] = np.cos(features['lattice_angle_gamma_degree']/180*np.pi)\n",
    "# Spacegroup as str\n",
    "# features['spacegroup'] = features['spacegroup'].astype(str)\n",
    "\n",
    "# # MSZoning NA in pred. filling with most popular values\n",
    "# features['MSZoning'] = features['MSZoning'].fillna(features['MSZoning'].mode()[0])\n",
    "\n",
    "# # LotFrontage  NA in all. I suppose NA means 0\n",
    "# features['LotFrontage'] = features['LotFrontage'].fillna(features['LotFrontage'].mean())\n",
    "\n",
    "# # Alley  NA in all. NA means no access\n",
    "# features['Alley'] = features['Alley'].fillna('NOACCESS')\n",
    "\n",
    "# # Converting OverallCond to str\n",
    "# features.OverallCond = features.OverallCond.astype(str)\n",
    "\n",
    "# # MasVnrType NA in all. filling with most popular values\n",
    "# features['MasVnrType'] = features['MasVnrType'].fillna(features['MasVnrType'].mode()[0])\n",
    "\n",
    "# # BsmtQual, BsmtCond, BsmtExposure, BsmtFinType1, BsmtFinType2\n",
    "# # NA in all. NA means No basement\n",
    "# for col in ('BsmtQual', 'BsmtCond', 'BsmtExposure', 'BsmtFinType1', 'BsmtFinType2'):\n",
    "#     features[col] = features[col].fillna('NoBSMT')\n",
    "\n",
    "# # TotalBsmtSF  NA in pred. I suppose NA means 0\n",
    "# features['TotalBsmtSF'] = features['TotalBsmtSF'].fillna(0)\n",
    "\n",
    "# # Electrical NA in pred. filling with most popular values\n",
    "# features['Electrical'] = features['Electrical'].fillna(features['Electrical'].mode()[0])\n",
    "\n",
    "# # KitchenAbvGr to categorical\n",
    "# features['KitchenAbvGr'] = features['KitchenAbvGr'].astype(str)\n",
    "\n",
    "# # KitchenQual NA in pred. filling with most popular values\n",
    "# features['KitchenQual'] = features['KitchenQual'].fillna(features['KitchenQual'].mode()[0])\n",
    "\n",
    "# # FireplaceQu  NA in all. NA means No Fireplace\n",
    "# features['FireplaceQu'] = features['FireplaceQu'].fillna('NoFP')\n",
    "\n",
    "# # GarageType, GarageFinish, GarageQual  NA in all. NA means No Garage\n",
    "# for col in ('GarageType', 'GarageFinish', 'GarageQual'):\n",
    "#     features[col] = features[col].fillna('NoGRG')\n",
    "\n",
    "# # GarageCars  NA in pred. I suppose NA means 0\n",
    "# features['GarageCars'] = features['GarageCars'].fillna(0.0)\n",
    "\n",
    "# # SaleType NA in pred. filling with most popular values\n",
    "# features['SaleType'] = features['SaleType'].fillna(features['SaleType'].mode()[0])\n",
    "\n",
    "# # Year and Month to categorical\n",
    "# features['YrSold'] = features['YrSold'].astype(str)\n",
    "# features['MoSold'] = features['MoSold'].astype(str)\n",
    "\n",
    "# # Adding total sqfootage feature and removing Basement, 1st and 2nd floor features\n",
    "# features['TotalSF'] = features['TotalBsmtSF'] + features['1stFlrSF'] + features['2ndFlrSF']\n",
    "# features.drop(['TotalBsmtSF', '1stFlrSF', '2ndFlrSF'], axis=1, inplace=True)"
   ]
  },
  {
   "cell_type": "code",
   "execution_count": 7,
   "metadata": {},
   "outputs": [],
   "source": [
    "# ax = sns.distplot(train_labels)"
   ]
  },
  {
   "cell_type": "code",
   "execution_count": 8,
   "metadata": {
    "collapsed": true
   },
   "outputs": [],
   "source": [
    "## Standardizing numeric features\n",
    "numeric_features = features.loc[:,['number_of_total_atoms', 'percent_atom_al',\n",
    "       'percent_atom_ga', 'percent_atom_in', 'lattice_vector_1_ang',\n",
    "       'lattice_vector_2_ang', 'lattice_vector_3_ang',\n",
    "       'lattice_angle_alpha_degree', 'lattice_angle_beta_degree',\n",
    "       'lattice_angle_gamma_degree']]\n",
    "numeric_features_standardized = (numeric_features - numeric_features.mean())/numeric_features.std()"
   ]
  },
  {
   "cell_type": "code",
   "execution_count": 9,
   "metadata": {},
   "outputs": [],
   "source": [
    "# ax = sns.pairplot(numeric_features_standardized)"
   ]
  },
  {
   "cell_type": "code",
   "execution_count": 10,
   "metadata": {
    "collapsed": true
   },
   "outputs": [],
   "source": [
    "# # Getting Dummies from Condition1 and Condition2\n",
    "# conditions = set([x for x in features['Condition1']] + [x for x in features['Condition2']])\n",
    "# dummies = pd.DataFrame(data=np.zeros((len(features.index), len(conditions))),\n",
    "#                        index=features.index, columns=conditions)\n",
    "# for i, cond in enumerate(zip(features['Condition1'], features['Condition2'])):\n",
    "#     dummies.ix[i, cond] = 1\n",
    "# features = pd.concat([features, dummies.add_prefix('Condition_')], axis=1)\n",
    "# features.drop(['Condition1', 'Condition2'], axis=1, inplace=True)\n",
    "\n",
    "# # Getting Dummies from Exterior1st and Exterior2nd\n",
    "# exteriors = set([x for x in features['Exterior1st']] + [x for x in features['Exterior2nd']])\n",
    "# dummies = pd.DataFrame(data=np.zeros((len(features.index), len(exteriors))),\n",
    "#                        index=features.index, columns=exteriors)\n",
    "# for i, ext in enumerate(zip(features['Exterior1st'], features['Exterior2nd'])):\n",
    "#     dummies.ix[i, ext] = 1\n",
    "# features = pd.concat([features, dummies.add_prefix('Exterior_')], axis=1)\n",
    "# features.drop(['Exterior1st', 'Exterior2nd', 'Exterior_nan'], axis=1, inplace=True)\n",
    "\n",
    "# Getting Dummies from all other categorical vars\n",
    "for col in features.dtypes[features.dtypes == 'object'].index:\n",
    "    for_dummy = features.pop(col)\n",
    "    features = pd.concat([features, pd.get_dummies(for_dummy, prefix=col)], axis=1)"
   ]
  },
  {
   "cell_type": "code",
   "execution_count": 11,
   "metadata": {
    "collapsed": true
   },
   "outputs": [],
   "source": [
    "### Copying features\n",
    "features_standardized = features.copy()\n",
    "\n",
    "### Replacing numeric features by standardized values\n",
    "features_standardized.update(numeric_features_standardized)"
   ]
  },
  {
   "cell_type": "code",
   "execution_count": 12,
   "metadata": {
    "collapsed": true
   },
   "outputs": [],
   "source": [
    "### Splitting features\n",
    "train_features = features.loc['train'].drop('id', axis=1).select_dtypes(include=[np.number]).values\n",
    "test_features = features.loc['test'].drop('id', axis=1).select_dtypes(include=[np.number]).values\n",
    "\n",
    "### Splitting standardized features\n",
    "train_features_st = features_standardized.loc['train'].drop('id', axis=1).select_dtypes(include=[np.number]).values\n",
    "test_features_st = features_standardized.loc['test'].drop('id', axis=1).select_dtypes(include=[np.number]).values"
   ]
  },
  {
   "cell_type": "code",
   "execution_count": 13,
   "metadata": {
    "collapsed": true
   },
   "outputs": [],
   "source": [
    "### Shuffling train sets\n",
    "train_features_st, train_features, train_labels = shuffle(train_features_st, train_features, train_labels, random_state = 5)"
   ]
  },
  {
   "cell_type": "code",
   "execution_count": 14,
   "metadata": {
    "collapsed": true
   },
   "outputs": [],
   "source": [
    "### Splitting\n",
    "x_train, x_test, y_train, y_test = train_test_split(train_features, train_labels, test_size=0.1, random_state=200)\n",
    "x_train_st, x_test_st, y_train_st, y_test_st = train_test_split(train_features_st, train_labels, test_size=0.1, random_state=200)"
   ]
  },
  {
   "cell_type": "code",
   "execution_count": 15,
   "metadata": {},
   "outputs": [],
   "source": [
    "# ENSTest = linear_model.ElasticNetCV(alphas=[0.0001, 0.0005, 0.001, 0.01, 0.1, 1, 10], l1_ratio=[.01, .1, .5, .9, .99], max_iter=5000).fit(x_train_st, y_train_st)\n",
    "# train_test(ENSTest, x_train_st, x_test_st, y_train_st, y_test_st)"
   ]
  },
  {
   "cell_type": "code",
   "execution_count": 16,
   "metadata": {},
   "outputs": [],
   "source": [
    "# Average R2 score and standart deviation of 5-fold cross-validation\n",
    "# scores = cross_val_score(ENSTest, train_features_st, train_labels, cv=5)\n",
    "# print(\"Accuracy: %0.2f (+/- %0.2f)\" % (scores.mean(), scores.std() * 2))"
   ]
  },
  {
   "cell_type": "code",
   "execution_count": 22,
   "metadata": {},
   "outputs": [
    {
     "name": "stdout",
     "output_type": "stream",
     "text": [
      "GradientBoostingRegressor(alpha=0.9, criterion='friedman_mse', init=None,\n",
      "             learning_rate=0.01, loss='huber', max_depth=3,\n",
      "             max_features='sqrt', max_leaf_nodes=None,\n",
      "             min_impurity_split=1e-07, min_samples_leaf=15,\n",
      "             min_samples_split=10, min_weight_fraction_leaf=0.0,\n",
      "             n_estimators=20000, presort='auto', random_state=None,\n",
      "             subsample=1.0, verbose=0, warm_start=False)\n",
      "R2: 0.9782141018153896\n",
      "RMSLE: 0.05821985528008024\n",
      "RMSE: 0.1455383747962634\n",
      "Test\n",
      "R2: 0.9685423234675559\n",
      "RMSLE: 0.07902232611166213\n",
      "RMSE: 0.1844716223113467\n"
     ]
    }
   ],
   "source": [
    "GBest = ensemble.GradientBoostingRegressor(n_estimators=20000, learning_rate=0.01, max_depth=3, max_features='sqrt',\n",
    "                                               min_samples_leaf=15, min_samples_split=10, loss='huber').fit(x_train, y_train)\n",
    "train_test(GBest, x_train, x_test, y_train, y_test)"
   ]
  },
  {
   "cell_type": "code",
   "execution_count": 18,
   "metadata": {},
   "outputs": [
    {
     "name": "stdout",
     "output_type": "stream",
     "text": [
      "Accuracy: 0.95 (+/- 0.01)\n"
     ]
    }
   ],
   "source": [
    "# Average R2 score and standart deviation of 5-fold cross-validation\n",
    "scores = cross_val_score(GBest, train_features_st, train_labels, cv=5)\n",
    "print(\"Accuracy: %0.2f (+/- %0.2f)\" % (scores.mean(), scores.std() * 2))"
   ]
  },
  {
   "cell_type": "code",
   "execution_count": 19,
   "metadata": {
    "collapsed": true
   },
   "outputs": [],
   "source": [
    "# Retraining models\n",
    "GB_model = GBest.fit(train_features, train_labels)\n",
    "# ENST_model = ENSTest.fit(train_features_st, train_labels)"
   ]
  },
  {
   "cell_type": "code",
   "execution_count": 20,
   "metadata": {
    "collapsed": true
   },
   "outputs": [],
   "source": [
    "## Getting our SalePrice estimation\n",
    "# Final_labels = (GB_model.predict(test_features) + ENST_model.predict(test_features_st)) / 2\n",
    "Final_labels = GB_model.predict(test_features)\n",
    "Final_labels[Final_labels < 0] = 0"
   ]
  },
  {
   "cell_type": "code",
   "execution_count": 21,
   "metadata": {
    "collapsed": true
   },
   "outputs": [],
   "source": [
    "## Saving to CSV\n",
    "pd.DataFrame({'id': test.id, 'bandgap_energy_ev': Final_labels}).to_csv('label2.csv', index = False)    "
   ]
  }
 ],
 "metadata": {
  "kernelspec": {
   "display_name": "Python 3",
   "language": "python",
   "name": "python3"
  },
  "language_info": {
   "codemirror_mode": {
    "name": "ipython",
    "version": 3
   },
   "file_extension": ".py",
   "mimetype": "text/x-python",
   "name": "python",
   "nbconvert_exporter": "python",
   "pygments_lexer": "ipython3",
   "version": "3.6.1"
  }
 },
 "nbformat": 4,
 "nbformat_minor": 2
}
