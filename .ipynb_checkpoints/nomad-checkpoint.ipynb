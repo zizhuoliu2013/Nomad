{
 "cells": [
  {
   "cell_type": "code",
   "execution_count": 1,
   "metadata": {
    "collapsed": true
   },
   "outputs": [],
   "source": [
    "import pandas as pd\n",
    "import numpy as np\n",
    "import matplotlib.pyplot as plt"
   ]
  },
  {
   "cell_type": "code",
   "execution_count": 3,
   "metadata": {},
   "outputs": [],
   "source": [
    "from sklearn import ensemble, tree, linear_model, svm, neural_network\n",
    "from sklearn.model_selection import train_test_split, GridSearchCV, cross_val_score\n",
    "from sklearn.metrics import r2_score,mean_squared_error"
   ]
  },
  {
   "cell_type": "code",
   "execution_count": 4,
   "metadata": {
    "collapsed": true
   },
   "outputs": [],
   "source": [
    "train = pd.read_csv('train.csv')\n",
    "test = pd.read_csv('test.csv')"
   ]
  },
  {
   "cell_type": "code",
   "execution_count": 5,
   "metadata": {},
   "outputs": [
    {
     "data": {
      "text/plain": [
       "Index(['id', 'spacegroup', 'number_of_total_atoms', 'percent_atom_al',\n",
       "       'percent_atom_ga', 'percent_atom_in', 'lattice_vector_1_ang',\n",
       "       'lattice_vector_2_ang', 'lattice_vector_3_ang',\n",
       "       'lattice_angle_alpha_degree', 'lattice_angle_beta_degree',\n",
       "       'lattice_angle_gamma_degree', 'formation_energy_ev_natom',\n",
       "       'bandgap_energy_ev'],\n",
       "      dtype='object')"
      ]
     },
     "execution_count": 5,
     "metadata": {},
     "output_type": "execute_result"
    }
   ],
   "source": [
    "train.columns"
   ]
  },
  {
   "cell_type": "code",
   "execution_count": 6,
   "metadata": {
    "collapsed": true
   },
   "outputs": [],
   "source": [
    "def get_score(prediction, labels):\n",
    "    print(\"R2: {}\".format(r2_score(prediction,labels)))\n",
    "    print('RMSE: {}'.format(np.sqrt(mean_squared_error(prediction, labels))))\n",
    "    print(\"RMSLE: {}\".format(np.sqrt(np.square(np.log(prediction + 1) - np.log(labels + 1)).mean())))\n",
    "\n",
    "def train_test(estimator, x_train, x_test, y_train, y_test):\n",
    "    prediction_train = estimator.predict(x_train)\n",
    "    print(estimator)\n",
    "    get_score(prediction_train,y_train)\n",
    "    \n",
    "    prediction_test = estimator.predict(x_test)\n",
    "    print(\"Test\")\n",
    "    get_score(prediction_test,y_test)"
   ]
  },
  {
   "cell_type": "code",
   "execution_count": 177,
   "metadata": {
    "collapsed": true
   },
   "outputs": [],
   "source": [
    "train_data = train.copy()\n",
    "train_labels = train_data.pop('formation_energy_ev_natom')\n",
    "bandgap_labels = train_data.pop('bandgap_energy_ev')\n",
    "\n",
    "features = pd.concat([train_data, test], keys = ['train','test'])"
   ]
  },
  {
   "cell_type": "code",
   "execution_count": 178,
   "metadata": {
    "collapsed": true
   },
   "outputs": [],
   "source": [
    "features['spacegroup'] = features['spacegroup'].astype(str)\n",
    "features['lattice_vector_1_ang'] = 1 / features['lattice_vector_1_ang']\n",
    "features['lattice_vector_2_ang'] = 1 / features['lattice_vector_2_ang']\n",
    "features['lattice_vector_3_ang'] = 1 / features['lattice_vector_3_ang']\n",
    "features['lattice_angle_alpha_degree'] = np.cos(features['lattice_angle_alpha_degree'])\n",
    "features['lattice_angle_beta_degree'] = np.cos(features['lattice_angle_beta_degree'])\n",
    "features['lattice_angle_gamma_degree'] = np.cos(features['lattice_angle_gamma_degree'])"
   ]
  },
  {
   "cell_type": "code",
   "execution_count": 179,
   "metadata": {
    "collapsed": true
   },
   "outputs": [],
   "source": [
    "process_features = features.copy()\n",
    "\n",
    "for col in process_features.dtypes[process_features.dtypes == 'object'].index:\n",
    "    for_dummy = process_features.pop(col)\n",
    "    process_features = pd.concat([process_features,pd.get_dummies(for_dummy,prefix = col)],axis = 1)\n",
    "\n",
    "numeric_features = features.loc[:,['number_of_total_atoms', 'percent_atom_al',\n",
    "       'percent_atom_ga', 'percent_atom_in', 'lattice_vector_1_ang',\n",
    "       'lattice_vector_2_ang', 'lattice_vector_3_ang',\n",
    "       'lattice_angle_alpha_degree', 'lattice_angle_beta_degree',\n",
    "       'lattice_angle_gamma_degree']]\n",
    "numeric_features_standardized = (numeric_features - numeric_features.mean())/numeric_features.std()\n",
    "\n",
    "process_features.update(numeric_features_standardized)"
   ]
  },
  {
   "cell_type": "code",
   "execution_count": 180,
   "metadata": {},
   "outputs": [
    {
     "data": {
      "text/plain": [
       "array(['33', '194', '227', '167', '206', '12'], dtype=object)"
      ]
     },
     "execution_count": 180,
     "metadata": {},
     "output_type": "execute_result"
    }
   ],
   "source": [
    "features.spacegroup.unique()"
   ]
  },
  {
   "cell_type": "code",
   "execution_count": 181,
   "metadata": {},
   "outputs": [],
   "source": [
    "process_features = features.copy()\n",
    "process_features.update(numeric_features_standardized)"
   ]
  },
  {
   "cell_type": "code",
   "execution_count": 182,
   "metadata": {},
   "outputs": [],
   "source": [
    "s33 = process_features['spacegroup'] == '194'\n",
    "process_features = process_features[s33].drop('spacegroup',axis = 1)\n",
    "s33 = np.array(s33)\n",
    "train_labels = train_labels[s33[:2400]]\n",
    "bandgap_labels = bandgap_labels[s33[:2400]]"
   ]
  },
  {
   "cell_type": "code",
   "execution_count": 183,
   "metadata": {},
   "outputs": [],
   "source": [
    "train_features = process_features.loc['train'].drop('id', axis=1).select_dtypes(include=[np.number]).values\n",
    "test_features = process_features.loc['test'].drop('id', axis=1).select_dtypes(include=[np.number]).values"
   ]
  },
  {
   "cell_type": "code",
   "execution_count": 184,
   "metadata": {},
   "outputs": [],
   "source": [
    "x_train, x_test, y_train, y_test = train_test_split(train_features,train_labels,test_size = 0.1,random_state = 50)"
   ]
  },
  {
   "cell_type": "code",
   "execution_count": 185,
   "metadata": {},
   "outputs": [
    {
     "name": "stdout",
     "output_type": "stream",
     "text": [
      "GradientBoostingRegressor(alpha=0.9, criterion='friedman_mse', init=None,\n",
      "             learning_rate=0.01, loss='ls', max_depth=5,\n",
      "             max_features='sqrt', max_leaf_nodes=None,\n",
      "             min_impurity_split=1e-07, min_samples_leaf=15,\n",
      "             min_samples_split=10, min_weight_fraction_leaf=0.0,\n",
      "             n_estimators=1000, presort='auto', random_state=None,\n",
      "             subsample=1.0, verbose=0, warm_start=False)\n",
      "R2: 0.765688890875313\n",
      "RMSE: 0.040913021887508796\n",
      "RMSLE: 0.031160988258414544\n",
      "Test\n",
      "R2: 0.5046380686449076\n",
      "RMSE: 0.053553835357673475\n",
      "RMSLE: 0.04191980942381948\n"
     ]
    }
   ],
   "source": [
    "GB = ensemble.GradientBoostingRegressor(alpha = 0.9, n_estimators=1000, learning_rate=0.01, max_depth=5, max_features='sqrt',\n",
    "                                               min_samples_leaf=15, min_samples_split=10, loss='ls').fit(x_train,y_train)\n",
    "train_test(GB,x_train,x_test,y_train,y_test)"
   ]
  },
  {
   "cell_type": "code",
   "execution_count": 186,
   "metadata": {
    "collapsed": true
   },
   "outputs": [],
   "source": [
    "# param_grid = {'n_estimators':[100,500,1000,5000,10000],'max_depth':[1,5,10,20,25],'learning_rate':[1,0.1,0.01,0.01]}\n",
    "# RFs = GridSearchCV(estimator = RF,param_grid = param_grid,scoring='neg_mean_squared_error')\n",
    "# RFs.fit(x_train,y_train)\n",
    "# RFs.best_params_"
   ]
  },
  {
   "cell_type": "code",
   "execution_count": 187,
   "metadata": {},
   "outputs": [],
   "source": [
    "#new_train_features = np.concatenate((train_features,np.array([train_labels]).T),axis = 1)\n",
    "new_train_features = train_features\n",
    "x_train, x_test, y_train, y_test = train_test_split(new_train_features,bandgap_labels,test_size = 0.1,random_state = 50)"
   ]
  },
  {
   "cell_type": "code",
   "execution_count": 209,
   "metadata": {},
   "outputs": [
    {
     "name": "stdout",
     "output_type": "stream",
     "text": [
      "GradientBoostingRegressor(alpha=0.9, criterion='friedman_mse', init=None,\n",
      "             learning_rate=0.01, loss='ls', max_depth=5,\n",
      "             max_features='sqrt', max_leaf_nodes=None,\n",
      "             min_impurity_split=1e-07, min_samples_leaf=15,\n",
      "             min_samples_split=10, min_weight_fraction_leaf=0.0,\n",
      "             n_estimators=1000, presort='auto', random_state=None,\n",
      "             subsample=1.0, verbose=0, warm_start=False)\n",
      "R2: 0.9533154220957996\n",
      "RMSE: 0.18463823302532711\n",
      "RMSLE: 0.07039077079356154\n",
      "Test\n",
      "R2: 0.8283190187968004\n",
      "RMSE: 0.32761685542611524\n",
      "RMSLE: 0.10876048985150262\n"
     ]
    }
   ],
   "source": [
    "GBb = ensemble.GradientBoostingRegressor(alpha = 0.9, n_estimators=1000, learning_rate=0.01, max_depth=5, max_features='sqrt',\n",
    "                                               min_samples_leaf=15, min_samples_split=10, loss='ls').fit(x_train,y_train)\n",
    "train_test(GBb,x_train,x_test,y_train,y_test)"
   ]
  },
  {
   "cell_type": "code",
   "execution_count": 190,
   "metadata": {},
   "outputs": [
    {
     "data": {
      "text/plain": [
       "{'alpha': 0.5, 'n_estimators': 1000}"
      ]
     },
     "execution_count": 190,
     "metadata": {},
     "output_type": "execute_result"
    }
   ],
   "source": [
    "param_grid = {'alpha':[0.1,0.3,0.5,0.7,0.8],'n_estimators':[1000,2500,5000]}\n",
    "RFs = GridSearchCV(estimator = GBb,param_grid = param_grid,scoring='neg_mean_squared_error')\n",
    "RFs.fit(x_train,y_train)\n",
    "RFs.best_params_"
   ]
  },
  {
   "cell_type": "code",
   "execution_count": 228,
   "metadata": {},
   "outputs": [
    {
     "name": "stdout",
     "output_type": "stream",
     "text": [
      "SVR(C=50.0, cache_size=200, coef0=0.0, degree=3, epsilon=0.1, gamma='auto',\n",
      "  kernel='rbf', max_iter=-1, shrinking=True, tol=0.001, verbose=False)\n",
      "R2: 0.9006438381154438\n",
      "RMSE: 0.27732736583249745\n",
      "RMSLE: 0.10109986277848751\n",
      "Test\n",
      "R2: 0.8468870434674968\n",
      "RMSE: 0.329949425039437\n",
      "RMSLE: 0.11198759255474679\n"
     ]
    }
   ],
   "source": [
    "SVR = svm.SVR(C = 50.0, kernel = 'rbf').fit(x_train,y_train)\n",
    "train_test(SVR,x_train,x_test,y_train,y_test)"
   ]
  },
  {
   "cell_type": "code",
   "execution_count": 229,
   "metadata": {},
   "outputs": [
    {
     "name": "stdout",
     "output_type": "stream",
     "text": [
      "RandomForestRegressor(bootstrap=True, criterion='mse', max_depth=None,\n",
      "           max_features='auto', max_leaf_nodes=None,\n",
      "           min_impurity_split=1e-07, min_samples_leaf=1,\n",
      "           min_samples_split=2, min_weight_fraction_leaf=0.0,\n",
      "           n_estimators=1000, n_jobs=-1, oob_score=False,\n",
      "           random_state=None, verbose=0, warm_start=False)\n",
      "R2: 0.9641032292676621\n",
      "RMSE: 0.1624073328891476\n",
      "RMSLE: 0.06181803298403923\n",
      "Test\n",
      "R2: 0.8522987418581294\n",
      "RMSE: 0.30914910791308375\n",
      "RMSLE: 0.10863525229564695\n"
     ]
    }
   ],
   "source": [
    "RF = ensemble.RandomForestRegressor(n_estimators = 1000,n_jobs = -1).fit(x_train,y_train)\n",
    "train_test(RF,x_train,x_test,y_train,y_test)"
   ]
  },
  {
   "cell_type": "code",
   "execution_count": 85,
   "metadata": {},
   "outputs": [
    {
     "data": {
      "text/plain": [
       "{'n_estimators': 1000}"
      ]
     },
     "execution_count": 85,
     "metadata": {},
     "output_type": "execute_result"
    }
   ],
   "source": [
    "# param_grid = {'n_estimators':[500,1000,2000]}\n",
    "# RFs = GridSearchCV(estimator = RF,param_grid = param_grid,scoring='neg_mean_squared_error')\n",
    "# RFs.fit(x_train,y_train)\n",
    "# RFs.best_params_"
   ]
  },
  {
   "cell_type": "code",
   "execution_count": 117,
   "metadata": {
    "collapsed": true
   },
   "outputs": [],
   "source": [
    "GB_model = GB.fit(train_features,train_labels)\n",
    "ans_labels = GB_model.predict(test_features)\n",
    "ans_labels[ans_labels < 0 ] = 0"
   ]
  },
  {
   "cell_type": "code",
   "execution_count": 118,
   "metadata": {
    "collapsed": true
   },
   "outputs": [],
   "source": [
    "GBb_model = GBb.fit(train_features,bandgap_labels)\n",
    "SVR_model = SVR.fit(train_features,bandgap_labels)\n",
    "RF_model = RF.fit(train_features,bandgap_labels)\n",
    "ans_bandgap_labels = (GBb_model.predict(test_features)+SVR_model.predict(test_features))/2\n",
    "ans_bandgap_labels[ans_bandgap_labels < 0] = 0"
   ]
  },
  {
   "cell_type": "code",
   "execution_count": 119,
   "metadata": {
    "collapsed": true
   },
   "outputs": [],
   "source": [
    "pd.DataFrame({'id': test.id, 'formation_energy_ev_natom': ans_labels,'bandgap_energy_ev':ans_bandgap_labels}).to_csv('result.csv', index = False)    "
   ]
  }
 ],
 "metadata": {
  "kernelspec": {
   "display_name": "Python 3",
   "language": "python",
   "name": "python3"
  },
  "language_info": {
   "codemirror_mode": {
    "name": "ipython",
    "version": 3
   },
   "file_extension": ".py",
   "mimetype": "text/x-python",
   "name": "python",
   "nbconvert_exporter": "python",
   "pygments_lexer": "ipython3",
   "version": "3.6.1"
  }
 },
 "nbformat": 4,
 "nbformat_minor": 2
}
