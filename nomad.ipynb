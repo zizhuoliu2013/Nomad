{
 "cells": [
  {
   "cell_type": "code",
   "execution_count": 1,
   "metadata": {
    "collapsed": true
   },
   "outputs": [],
   "source": [
    "import pandas as pd\n",
    "import numpy as np\n",
    "import matplotlib.pyplot as plt"
   ]
  },
  {
   "cell_type": "code",
   "execution_count": 173,
   "metadata": {},
   "outputs": [],
   "source": [
    "from sklearn import ensemble, tree, linear_model\n",
    "from sklearn.model_selection import train_test_split, GridSearchCV, cross_val_score\n",
    "from sklearn.metrics import r2_score,mean_squared_error\n",
    "from sklearn.utils import shuffle"
   ]
  },
  {
   "cell_type": "code",
   "execution_count": 3,
   "metadata": {
    "collapsed": true
   },
   "outputs": [],
   "source": [
    "train = pd.read_csv('train.csv')\n",
    "test = pd.read_csv('test.csv')"
   ]
  },
  {
   "cell_type": "code",
   "execution_count": 82,
   "metadata": {
    "collapsed": true
   },
   "outputs": [],
   "source": [
    "def get_score(prediction, labels):\n",
    "    print(\"R2: {}\".format(r2_score(prediction,labels)))\n",
    "    print('RMSE: {}'.format(np.sqrt(mean_squared_error(prediction, labels))))\n",
    "    print(\"RMSLE: {}\".format(np.sqrt(np.square(np.log(prediction + 1) - np.log(labels + 1)).mean())))\n",
    "\n",
    "def train_test(estimator, x_train, x_test, y_train, y_test):\n",
    "    prediction_train = estimator.predict(x_train)\n",
    "    print(estimator)\n",
    "    get_score(prediction_train,y_train)\n",
    "    \n",
    "    prediction_test = estimator.predict(x_test)\n",
    "    print(\"Test\")\n",
    "    get_score(prediction_test,y_test)"
   ]
  },
  {
   "cell_type": "code",
   "execution_count": 129,
   "metadata": {},
   "outputs": [],
   "source": [
    "train_data = train.copy()\n",
    "train_labels = train_data.pop('formation_energy_ev_natom')\n",
    "bandgap_labels = train_data.pop('bandgap_energy_ev')\n",
    "\n",
    "features = pd.concat([train_data, test], keys = ['train','test'])"
   ]
  },
  {
   "cell_type": "code",
   "execution_count": 130,
   "metadata": {},
   "outputs": [],
   "source": [
    "features['spacegroup'] = features['spacegroup'].astype(str)"
   ]
  },
  {
   "cell_type": "code",
   "execution_count": 178,
   "metadata": {},
   "outputs": [],
   "source": [
    "process_features = features.copy()\n",
    "\n",
    "for col in process_features.dtypes[process_features.dtypes == 'object'].index:\n",
    "    for_dummy = process_features.pop(col)\n",
    "    process_features = pd.concat([process_features,pd.get_dummies(for_dummy,prefix = col)],axis = 1)\n",
    "\n",
    "numeric_features = features.loc[:,['number_of_total_atoms', 'percent_atom_al',\n",
    "       'percent_atom_ga', 'percent_atom_in', 'lattice_vector_1_ang',\n",
    "       'lattice_vector_2_ang', 'lattice_vector_3_ang',\n",
    "       'lattice_angle_alpha_degree', 'lattice_angle_beta_degree',\n",
    "       'lattice_angle_gamma_degree']]\n",
    "numeric_features_standardized = (numeric_features - numeric_features.mean())/numeric_features.std()\n",
    "\n",
    "#process_features.update(numeric_features_standardized)"
   ]
  },
  {
   "cell_type": "code",
   "execution_count": 179,
   "metadata": {
    "collapsed": true
   },
   "outputs": [],
   "source": [
    "train_features = process_features.loc['train'].drop('id', axis=1).select_dtypes(include=[np.number]).values\n",
    "test_features = process_features.loc['test'].drop('id', axis=1).select_dtypes(include=[np.number]).values"
   ]
  },
  {
   "cell_type": "code",
   "execution_count": 180,
   "metadata": {},
   "outputs": [],
   "source": [
    "x_train, x_test, y_train, y_test = train_test_split(train_features,train_labels,test_size = 0.1,random_state = 50)"
   ]
  },
  {
   "cell_type": "code",
   "execution_count": 181,
   "metadata": {},
   "outputs": [
    {
     "name": "stdout",
     "output_type": "stream",
     "text": [
      "Lasso(alpha=0.1, copy_X=True, fit_intercept=True, max_iter=1000,\n",
      "   normalize=False, positive=False, precompute=False, random_state=None,\n",
      "   selection='cyclic', tol=0.0001, warm_start=False)\n",
      "R2: -7.827363851992125\n",
      "RMSE: 0.09274980760222595\n",
      "RMSLE: 0.07719163568965441\n",
      "Test\n",
      "R2: -7.638773161776379\n",
      "RMSE: 0.09257861982364421\n",
      "RMSLE: 0.07740985644178801\n"
     ]
    }
   ],
   "source": [
    "BenchMark = linear_model.Lasso(0.1).fit(x_train,y_train)\n",
    "train_test(BenchMark,x_train,x_test,y_train,y_test)"
   ]
  },
  {
   "cell_type": "code",
   "execution_count": 193,
   "metadata": {},
   "outputs": [
    {
     "name": "stdout",
     "output_type": "stream",
     "text": [
      "GradientBoostingRegressor(alpha=0.9, criterion='friedman_mse', init=None,\n",
      "             learning_rate=0.01, loss='ls', max_depth=5,\n",
      "             max_features='sqrt', max_leaf_nodes=None,\n",
      "             min_impurity_split=1e-07, min_samples_leaf=15,\n",
      "             min_samples_split=10, min_weight_fraction_leaf=0.0,\n",
      "             n_estimators=1000, presort='auto', random_state=None,\n",
      "             subsample=1.0, verbose=0, warm_start=False)\n",
      "R2: 0.8875809133935136\n",
      "RMSE: 0.032538603711023475\n",
      "RMSLE: 0.02578214855706344\n",
      "Test\n",
      "R2: 0.8121793980834351\n",
      "RMSE: 0.041001079355878364\n",
      "RMSLE: 0.03299590714808735\n"
     ]
    }
   ],
   "source": [
    "RF = ensemble.GradientBoostingRegressor(n_estimators=1000, learning_rate=0.01, max_depth=5, max_features='sqrt',\n",
    "                                               min_samples_leaf=15, min_samples_split=10, loss='ls').fit(x_train,y_train)\n",
    "train_test(RF,x_train,x_test,y_train,y_test)"
   ]
  },
  {
   "cell_type": "code",
   "execution_count": 191,
   "metadata": {},
   "outputs": [
    {
     "data": {
      "text/plain": [
       "GridSearchCV(cv=None, error_score='raise',\n",
       "       estimator=GradientBoostingRegressor(alpha=0.9, criterion='friedman_mse', init=None,\n",
       "             learning_rate=0.01, loss='ls', max_depth=5,\n",
       "             max_features='sqrt', max_leaf_nodes=None,\n",
       "             min_impurity_split=1e-07, min_samples_leaf=15,\n",
       "             min_samples_split=10, min_weight_fraction_leaf=0.0,\n",
       "             n_estimators=1000, presort='auto', random_state=None,\n",
       "             subsample=1.0, verbose=0, warm_start=False),\n",
       "       fit_params={}, iid=True, n_jobs=1,\n",
       "       param_grid={'n_estimators': [100, 500, 1000, 5000, 10000], 'max_depth': [1, 5, 10, 20, 25], 'learning_rate': [1, 0.1, 0.01, 0.01]},\n",
       "       pre_dispatch='2*n_jobs', refit=True, return_train_score=True,\n",
       "       scoring='neg_mean_squared_error', verbose=0)"
      ]
     },
     "execution_count": 191,
     "metadata": {},
     "output_type": "execute_result"
    }
   ],
   "source": [
    "# param_grid = {'n_estimators':[100,500,1000,5000,10000],'max_depth':[1,5,10,20,25],'learning_rate':[1,0.1,0.01,0.01]}\n",
    "# RFs = GridSearchCV(estimator = RF,param_grid = param_grid,scoring='neg_mean_squared_error')\n",
    "# RFs.fit(x_train,y_train)\n",
    "# RFs.best_params_"
   ]
  },
  {
   "cell_type": "code",
   "execution_count": 194,
   "metadata": {
    "collapsed": true
   },
   "outputs": [],
   "source": [
    "x_train, x_test, y_train, y_test = train_test_split(train_features,bandgap_labels,test_size = 0.1,random_state = 50)"
   ]
  },
  {
   "cell_type": "code",
   "execution_count": 226,
   "metadata": {},
   "outputs": [
    {
     "name": "stdout",
     "output_type": "stream",
     "text": [
      "GradientBoostingRegressor(alpha=0.5, criterion='friedman_mse', init=None,\n",
      "             learning_rate=0.01, loss='ls', max_depth=5,\n",
      "             max_features='sqrt', max_leaf_nodes=None,\n",
      "             min_impurity_split=1e-07, min_samples_leaf=15,\n",
      "             min_samples_split=10, min_weight_fraction_leaf=0.0,\n",
      "             n_estimators=2000, presort='auto', random_state=None,\n",
      "             subsample=1.0, verbose=0, warm_start=False)\n",
      "R2: 0.9779049237426481\n",
      "RMSE: 0.1475422736125267\n",
      "RMSLE: 0.05984173690263628\n",
      "Test\n",
      "R2: 0.9437146620950401\n",
      "RMSE: 0.22905332155988833\n",
      "RMSLE: 0.09108974043026252\n"
     ]
    }
   ],
   "source": [
    "RFb = ensemble.GradientBoostingRegressor(alpha = 0.5, n_estimators=1000, learning_rate=0.01, max_depth=5, max_features='sqrt',\n",
    "                                               min_samples_leaf=15, min_samples_split=10, loss='ls').fit(x_train,y_train)\n",
    "train_test(RFb,x_train,x_test,y_train,y_test)"
   ]
  },
  {
   "cell_type": "code",
   "execution_count": 227,
   "metadata": {},
   "outputs": [
    {
     "ename": "SyntaxError",
     "evalue": "invalid syntax (<ipython-input-227-867bf3f310b8>, line 1)",
     "output_type": "error",
     "traceback": [
      "\u001b[0;36m  File \u001b[0;32m\"<ipython-input-227-867bf3f310b8>\"\u001b[0;36m, line \u001b[0;32m1\u001b[0m\n\u001b[0;31m    param_grid = {'n_estimators':[500,1000,2000],'alpha':[0.5,0.7,0.9],max_depth = [3,5,7]}\u001b[0m\n\u001b[0m                                                                                 ^\u001b[0m\n\u001b[0;31mSyntaxError\u001b[0m\u001b[0;31m:\u001b[0m invalid syntax\n"
     ]
    }
   ],
   "source": [
    "param_grid = {'n_estimators':[500,1000,2000],'alpha':[0.5,0.7,0.9],max_depth = [3,5,7]}\n",
    "RFs = GridSearchCV(estimator = RFb,param_grid = param_grid,scoring='neg_mean_squared_error')\n",
    "RFs.fit(x_train,y_train)\n",
    "RFs.best_params_"
   ]
  },
  {
   "cell_type": "code",
   "execution_count": 209,
   "metadata": {},
   "outputs": [],
   "source": [
    "RF_model = RF.fit(train_features,train_labels)\n",
    "ans_labels = RF_model.predict(test_features)\n",
    "ans_labels[ans_labels < 0 ] = 0"
   ]
  },
  {
   "cell_type": "code",
   "execution_count": 210,
   "metadata": {
    "collapsed": true
   },
   "outputs": [],
   "source": [
    "RFb_model = RFb.fit(train_features,bandgap_labels)\n",
    "bandgap_labels = RFb_model.predict(test_features)\n",
    "bandgap_labels[bandgap_labels < 0] = 0"
   ]
  },
  {
   "cell_type": "code",
   "execution_count": 211,
   "metadata": {
    "collapsed": true
   },
   "outputs": [],
   "source": [
    "pd.DataFrame({'id': test.id, 'formation_energy_ev_natom': ans_labels,'bandgap_energy_ev':bandgap_labels}).to_csv('result.csv', index = False)    "
   ]
  }
 ],
 "metadata": {
  "kernelspec": {
   "display_name": "Python 3",
   "language": "python",
   "name": "python3"
  },
  "language_info": {
   "codemirror_mode": {
    "name": "ipython",
    "version": 3
   },
   "file_extension": ".py",
   "mimetype": "text/x-python",
   "name": "python",
   "nbconvert_exporter": "python",
   "pygments_lexer": "ipython3",
   "version": "3.6.1"
  }
 },
 "nbformat": 4,
 "nbformat_minor": 2
}
