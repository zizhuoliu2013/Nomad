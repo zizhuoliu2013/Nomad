{
 "cells": [
  {
   "cell_type": "code",
   "execution_count": 20,
   "metadata": {
    "collapsed": true
   },
   "outputs": [],
   "source": [
    "import pandas as pd\n",
    "import numpy as np\n",
    "import matplotlib.pyplot as plt"
   ]
  },
  {
   "cell_type": "code",
   "execution_count": 35,
   "metadata": {},
   "outputs": [],
   "source": [
    "from sklearn import ensemble, tree, linear_model, svm, neural_network\n",
    "from sklearn.model_selection import train_test_split, GridSearchCV, cross_val_score\n",
    "from sklearn.metrics import r2_score,mean_squared_error\n",
    "from sklearn.utils import shuffle"
   ]
  },
  {
   "cell_type": "code",
   "execution_count": 22,
   "metadata": {
    "collapsed": true
   },
   "outputs": [],
   "source": [
    "train = pd.read_csv('train.csv')\n",
    "test = pd.read_csv('test.csv')"
   ]
  },
  {
   "cell_type": "code",
   "execution_count": 23,
   "metadata": {},
   "outputs": [
    {
     "data": {
      "text/plain": [
       "Index(['id', 'spacegroup', 'number_of_total_atoms', 'percent_atom_al',\n",
       "       'percent_atom_ga', 'percent_atom_in', 'lattice_vector_1_ang',\n",
       "       'lattice_vector_2_ang', 'lattice_vector_3_ang',\n",
       "       'lattice_angle_alpha_degree', 'lattice_angle_beta_degree',\n",
       "       'lattice_angle_gamma_degree', 'formation_energy_ev_natom',\n",
       "       'bandgap_energy_ev'],\n",
       "      dtype='object')"
      ]
     },
     "execution_count": 23,
     "metadata": {},
     "output_type": "execute_result"
    }
   ],
   "source": [
    "train.columns"
   ]
  },
  {
   "cell_type": "code",
   "execution_count": 24,
   "metadata": {
    "collapsed": true
   },
   "outputs": [],
   "source": [
    "def get_score(prediction, labels):\n",
    "    print(\"R2: {}\".format(r2_score(prediction,labels)))\n",
    "    print('RMSE: {}'.format(np.sqrt(mean_squared_error(prediction, labels))))\n",
    "    print(\"RMSLE: {}\".format(np.sqrt(np.square(np.log(prediction + 1) - np.log(labels + 1)).mean())))\n",
    "\n",
    "def train_test(estimator, x_train, x_test, y_train, y_test):\n",
    "    prediction_train = estimator.predict(x_train)\n",
    "    print(estimator)\n",
    "    get_score(prediction_train,y_train)\n",
    "    \n",
    "    prediction_test = estimator.predict(x_test)\n",
    "    print(\"Test\")\n",
    "    get_score(prediction_test,y_test)"
   ]
  },
  {
   "cell_type": "code",
   "execution_count": 25,
   "metadata": {
    "collapsed": true
   },
   "outputs": [],
   "source": [
    "train_data = train.copy()\n",
    "train_labels = train_data.pop('formation_energy_ev_natom')\n",
    "bandgap_labels = train_data.pop('bandgap_energy_ev')\n",
    "\n",
    "features = pd.concat([train_data, test], keys = ['train','test'])"
   ]
  },
  {
   "cell_type": "code",
   "execution_count": 26,
   "metadata": {
    "collapsed": true
   },
   "outputs": [],
   "source": [
    "features['spacegroup'] = features['spacegroup'].astype(str)\n",
    "features['lattice_vector_1_ang'] = 1 / features['lattice_vector_1_ang']\n",
    "features['lattice_vector_2_ang'] = 1 / features['lattice_vector_2_ang']\n",
    "features['lattice_vector_3_ang'] = 1 / features['lattice_vector_3_ang']"
   ]
  },
  {
   "cell_type": "code",
   "execution_count": 27,
   "metadata": {
    "collapsed": true
   },
   "outputs": [],
   "source": [
    "process_features = features.copy()\n",
    "\n",
    "for col in process_features.dtypes[process_features.dtypes == 'object'].index:\n",
    "    for_dummy = process_features.pop(col)\n",
    "    process_features = pd.concat([process_features,pd.get_dummies(for_dummy,prefix = col)],axis = 1)\n",
    "\n",
    "numeric_features = features.loc[:,['number_of_total_atoms', 'percent_atom_al',\n",
    "       'percent_atom_ga', 'percent_atom_in', 'lattice_vector_1_ang',\n",
    "       'lattice_vector_2_ang', 'lattice_vector_3_ang',\n",
    "       'lattice_angle_alpha_degree', 'lattice_angle_beta_degree',\n",
    "       'lattice_angle_gamma_degree']]\n",
    "numeric_features_standardized = (numeric_features - numeric_features.mean())/numeric_features.std()\n",
    "\n",
    "#process_features.update(numeric_features_standardized)"
   ]
  },
  {
   "cell_type": "code",
   "execution_count": 28,
   "metadata": {
    "collapsed": true
   },
   "outputs": [],
   "source": [
    "train_features = process_features.loc['train'].drop('id', axis=1).select_dtypes(include=[np.number]).values\n",
    "test_features = process_features.loc['test'].drop('id', axis=1).select_dtypes(include=[np.number]).values"
   ]
  },
  {
   "cell_type": "code",
   "execution_count": 29,
   "metadata": {
    "collapsed": true
   },
   "outputs": [],
   "source": [
    "x_train, x_test, y_train, y_test = train_test_split(train_features,train_labels,test_size = 0.1,random_state = 50)"
   ]
  },
  {
   "cell_type": "code",
   "execution_count": 30,
   "metadata": {},
   "outputs": [
    {
     "name": "stdout",
     "output_type": "stream",
     "text": [
      "GradientBoostingRegressor(alpha=0.9, criterion='friedman_mse', init=None,\n",
      "             learning_rate=0.01, loss='ls', max_depth=5,\n",
      "             max_features='sqrt', max_leaf_nodes=None,\n",
      "             min_impurity_decrease=0.0, min_impurity_split=None,\n",
      "             min_samples_leaf=15, min_samples_split=10,\n",
      "             min_weight_fraction_leaf=0.0, n_estimators=1000,\n",
      "             presort='auto', random_state=None, subsample=1.0, verbose=0,\n",
      "             warm_start=False)\n",
      "R2: 0.8880602860995258\n",
      "RMSE: 0.03247127693446243\n",
      "RMSLE: 0.02572578546398849\n",
      "Test\n",
      "R2: 0.8107415122454202\n",
      "RMSE: 0.04116648131391463\n",
      "RMSLE: 0.03312378559604828\n"
     ]
    }
   ],
   "source": [
    "RF = ensemble.GradientBoostingRegressor(alpha = 0.9, n_estimators=1000, learning_rate=0.01, max_depth=5, max_features='sqrt',\n",
    "                                               min_samples_leaf=15, min_samples_split=10, loss='ls').fit(x_train,y_train)\n",
    "train_test(RF,x_train,x_test,y_train,y_test)"
   ]
  },
  {
   "cell_type": "code",
   "execution_count": 11,
   "metadata": {},
   "outputs": [],
   "source": [
    "# param_grid = {'n_estimators':[100,500,1000,5000,10000],'max_depth':[1,5,10,20,25],'learning_rate':[1,0.1,0.01,0.01]}\n",
    "# RFs = GridSearchCV(estimator = RF,param_grid = param_grid,scoring='neg_mean_squared_error')\n",
    "# RFs.fit(x_train,y_train)\n",
    "# RFs.best_params_"
   ]
  },
  {
   "cell_type": "code",
   "execution_count": 31,
   "metadata": {
    "collapsed": true
   },
   "outputs": [],
   "source": [
    "new_train_features = np.concatenate((train_features,np.array([train_labels]).T),axis = 1)\n",
    "x_train, x_test, y_train, y_test = train_test_split(new_train_features,bandgap_labels,test_size = 0.1,random_state = 50)"
   ]
  },
  {
   "cell_type": "code",
   "execution_count": 32,
   "metadata": {},
   "outputs": [
    {
     "name": "stdout",
     "output_type": "stream",
     "text": [
      "GradientBoostingRegressor(alpha=0.9, criterion='friedman_mse', init=None,\n",
      "             learning_rate=0.01, loss='ls', max_depth=5,\n",
      "             max_features='sqrt', max_leaf_nodes=None,\n",
      "             min_impurity_decrease=0.0, min_impurity_split=None,\n",
      "             min_samples_leaf=15, min_samples_split=10,\n",
      "             min_weight_fraction_leaf=0.0, n_estimators=1000,\n",
      "             presort='auto', random_state=None, subsample=1.0, verbose=0,\n",
      "             warm_start=False)\n",
      "R2: 0.9827381404416808\n",
      "RMSE: 0.13059570479466628\n",
      "RMSLE: 0.053371074121369044\n",
      "Test\n",
      "R2: 0.9616600254384543\n",
      "RMSE: 0.18993421958403173\n",
      "RMSLE: 0.07561357608711192\n"
     ]
    }
   ],
   "source": [
    "RFb = ensemble.GradientBoostingRegressor(alpha = 0.9, n_estimators=1000, learning_rate=0.01, max_depth=5, max_features='sqrt',\n",
    "                                               min_samples_leaf=15, min_samples_split=10, loss='ls').fit(x_train,y_train)\n",
    "train_test(RFb,x_train,x_test,y_train,y_test)"
   ]
  },
  {
   "cell_type": "code",
   "execution_count": 33,
   "metadata": {},
   "outputs": [
    {
     "name": "stdout",
     "output_type": "stream",
     "text": [
      "SVR(C=50.0, cache_size=200, coef0=0.0, degree=3, epsilon=0.1, gamma='auto',\n",
      "  kernel='rbf', max_iter=-1, shrinking=True, tol=0.001, verbose=False)\n",
      "R2: 0.9681655773288127\n",
      "RMSE: 0.17669541747582818\n",
      "RMSLE: 0.07114893751962284\n",
      "Test\n",
      "R2: 0.9555590380865779\n",
      "RMSE: 0.20604860917161505\n",
      "RMSLE: 0.07985835895240231\n"
     ]
    }
   ],
   "source": [
    "SVR = svm.SVR(C = 50.0).fit(x_train,y_train)\n",
    "train_test(SVR,x_train,x_test,y_train,y_test)"
   ]
  },
  {
   "cell_type": "code",
   "execution_count": 66,
   "metadata": {},
   "outputs": [
    {
     "name": "stdout",
     "output_type": "stream",
     "text": [
      "MLPRegressor(activation='tanh', alpha=1e-05, batch_size='auto', beta_1=0.9,\n",
      "       beta_2=0.999, early_stopping=False, epsilon=1e-08,\n",
      "       hidden_layer_sizes=(100,), learning_rate='constant',\n",
      "       learning_rate_init=0.001, max_iter=200, momentum=0.9,\n",
      "       nesterovs_momentum=True, power_t=0.5, random_state=None,\n",
      "       shuffle=True, solver='adam', tol=0.0001, validation_fraction=0.1,\n",
      "       verbose=False, warm_start=False)\n",
      "R2: 0.9359586285117659\n",
      "RMSE: 0.23574006138903023\n",
      "RMSLE: 0.08726636092878119\n",
      "Test\n",
      "R2: 0.9338660366793339\n",
      "RMSE: 0.2352700370213866\n",
      "RMSLE: 0.08975335368893116\n"
     ]
    }
   ],
   "source": [
    "NN = neural_network.MLPRegressor(activation='tanh',alpha = 0.00001).fit(x_train,y_train)\n",
    "train_test(NN,x_train,x_test,y_train,y_test)"
   ]
  },
  {
   "cell_type": "code",
   "execution_count": 228,
   "metadata": {},
   "outputs": [
    {
     "data": {
      "text/plain": [
       "{'alpha': 0.9, 'max_depth': 3, 'n_estimators': 2000}"
      ]
     },
     "execution_count": 228,
     "metadata": {},
     "output_type": "execute_result"
    }
   ],
   "source": [
    "# param_grid = {'n_estimators':[500,1000,2000],'alpha':[0.5,0.7,0.9],\"max_depth\":[3,5,7]}\n",
    "# RFs = GridSearchCV(estimator = RFb,param_grid = param_grid,scoring='neg_mean_squared_error')\n",
    "# RFs.fit(x_train,y_train)\n",
    "# RFs.best_params_"
   ]
  },
  {
   "cell_type": "code",
   "execution_count": 67,
   "metadata": {
    "collapsed": true
   },
   "outputs": [],
   "source": [
    "RF_model = RF.fit(train_features,train_labels)\n",
    "ans_labels = RF_model.predict(test_features)\n",
    "ans_labels[ans_labels < 0 ] = 0"
   ]
  },
  {
   "cell_type": "code",
   "execution_count": 68,
   "metadata": {},
   "outputs": [
    {
     "ename": "TypeError",
     "evalue": "'MLPRegressor' object is not callable",
     "output_type": "error",
     "traceback": [
      "\u001b[0;31m---------------------------------------------------------------------------\u001b[0m",
      "\u001b[0;31mTypeError\u001b[0m                                 Traceback (most recent call last)",
      "\u001b[0;32m<ipython-input-68-5796d5ac3d8a>\u001b[0m in \u001b[0;36m<module>\u001b[0;34m()\u001b[0m\n\u001b[1;32m      2\u001b[0m \u001b[0mSVR_model\u001b[0m \u001b[0;34m=\u001b[0m \u001b[0mSVR\u001b[0m\u001b[0;34m.\u001b[0m\u001b[0mfit\u001b[0m\u001b[0;34m(\u001b[0m\u001b[0mtrain_features\u001b[0m\u001b[0;34m,\u001b[0m\u001b[0mbandgap_labels\u001b[0m\u001b[0;34m)\u001b[0m\u001b[0;34m\u001b[0m\u001b[0m\n\u001b[1;32m      3\u001b[0m \u001b[0mNN_model\u001b[0m \u001b[0;34m=\u001b[0m \u001b[0mNN\u001b[0m\u001b[0;34m.\u001b[0m\u001b[0mfit\u001b[0m\u001b[0;34m(\u001b[0m\u001b[0mtrain_features\u001b[0m\u001b[0;34m,\u001b[0m\u001b[0mbandgap_labels\u001b[0m\u001b[0;34m)\u001b[0m\u001b[0;34m\u001b[0m\u001b[0m\n\u001b[0;32m----> 4\u001b[0;31m \u001b[0mans_bandgap_labels\u001b[0m \u001b[0;34m=\u001b[0m \u001b[0;34m(\u001b[0m\u001b[0mRFb_model\u001b[0m\u001b[0;34m.\u001b[0m\u001b[0mpredict\u001b[0m\u001b[0;34m(\u001b[0m\u001b[0mtest_features\u001b[0m\u001b[0;34m)\u001b[0m\u001b[0;34m+\u001b[0m\u001b[0mSVR_model\u001b[0m\u001b[0;34m.\u001b[0m\u001b[0mpredict\u001b[0m\u001b[0;34m(\u001b[0m\u001b[0mtest_features\u001b[0m\u001b[0;34m)\u001b[0m\u001b[0;34m+\u001b[0m\u001b[0mNN_model\u001b[0m\u001b[0;34m(\u001b[0m\u001b[0mtest_features\u001b[0m\u001b[0;34m)\u001b[0m\u001b[0;34m)\u001b[0m\u001b[0;34m/\u001b[0m\u001b[0;36m3\u001b[0m\u001b[0;34m\u001b[0m\u001b[0m\n\u001b[0m\u001b[1;32m      5\u001b[0m \u001b[0mans_bandgap_labels\u001b[0m\u001b[0;34m[\u001b[0m\u001b[0mans_bandgap_labels\u001b[0m \u001b[0;34m<\u001b[0m \u001b[0;36m0\u001b[0m\u001b[0;34m]\u001b[0m \u001b[0;34m=\u001b[0m \u001b[0;36m0\u001b[0m\u001b[0;34m\u001b[0m\u001b[0m\n",
      "\u001b[0;31mTypeError\u001b[0m: 'MLPRegressor' object is not callable"
     ]
    }
   ],
   "source": [
    "RFb_model = RFb.fit(train_features,bandgap_labels)\n",
    "SVR_model = SVR.fit(train_features,bandgap_labels)\n",
    "NN_model = NN.fit(train_features,bandgap_labels)\n",
    "ans_bandgap_labels = (RFb_model.predict(test_features)+SVR_model.predict(test_features)+NN_model(test_features))/3\n",
    "ans_bandgap_labels[ans_bandgap_labels < 0] = 0"
   ]
  },
  {
   "cell_type": "code",
   "execution_count": 68,
   "metadata": {
    "collapsed": true
   },
   "outputs": [],
   "source": [
    "pd.DataFrame({'id': test.id, 'formation_energy_ev_natom': ans_labels,'bandgap_energy_ev':ans_bandgap_labels}).to_csv('result.csv', index = False)    "
   ]
  }
 ],
 "metadata": {
  "kernelspec": {
   "display_name": "Python 3",
   "language": "python",
   "name": "python3"
  },
  "language_info": {
   "codemirror_mode": {
    "name": "ipython",
    "version": 3
   },
   "file_extension": ".py",
   "mimetype": "text/x-python",
   "name": "python",
   "nbconvert_exporter": "python",
   "pygments_lexer": "ipython3",
   "version": "3.6.3"
  }
 },
 "nbformat": 4,
 "nbformat_minor": 2
}
